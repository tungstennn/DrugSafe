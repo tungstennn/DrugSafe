{
 "cells": [
  {
   "cell_type": "markdown",
   "id": "6d365e97",
   "metadata": {},
   "source": [
    "# Exploratory Data Analysis (EDA) – FDA Drug Event API\n",
    "\n",
    "This notebook is for exploring the structure and content of data returned from the openFDA Drug Event API.\n",
    "\n",
    "Goals:\n",
    "- Understand the response format\n",
    "- Identify key fields of interest (e.g., drug names, patient demographics, outcomes)\n",
    "- Evaluate what preprocessing or flattening is needed\n",
    "- Determine what dimensions and facts we might extract for the pipeline\n"
   ]
  },
  {
   "cell_type": "code",
   "execution_count": null,
   "id": "3a0fe9bb",
   "metadata": {
    "vscode": {
     "languageId": "plaintext"
    }
   },
   "outputs": [],
   "source": [
    "import requests\n",
    "import pandas as pd"
   ]
  }
 ],
 "metadata": {
  "language_info": {
   "name": "python"
  }
 },
 "nbformat": 4,
 "nbformat_minor": 5
}
